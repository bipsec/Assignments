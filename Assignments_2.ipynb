{
  "nbformat": 4,
  "nbformat_minor": 0,
  "metadata": {
    "colab": {
      "name": "Assignments_2.ipynb",
      "provenance": []
    },
    "kernelspec": {
      "name": "python3",
      "display_name": "Python 3"
    },
    "language_info": {
      "name": "python"
    }
  },
  "cells": [
    {
      "cell_type": "code",
      "execution_count": 21,
      "metadata": {
        "colab": {
          "base_uri": "https://localhost:8080/"
        },
        "id": "Yk_gAZzvwwP6",
        "outputId": "534d3e6f-5947-477a-ac5e-b9134b7eb87d"
      },
      "outputs": [
        {
          "output_type": "execute_result",
          "data": {
            "text/plain": [
              "(bool, bool)"
            ]
          },
          "metadata": {},
          "execution_count": 21
        }
      ],
      "source": [
        "#Answer of Question 1:\n",
        "a = True\n",
        "b = False\n",
        "type(a) , type(b)\n"
      ]
    },
    {
      "cell_type": "code",
      "source": [
        "#Answer of Question 2:\n",
        "and or not"
      ],
      "metadata": {
        "id": "x6Y188ZtxIaD"
      },
      "execution_count": 23,
      "outputs": []
    },
    {
      "cell_type": "code",
      "source": [
        "# Answer of Question 3:\n",
        "True and True = True\n",
        "True and False = False\n",
        "False and True = False\n",
        "False and False = False\n",
        "True or True = True\n",
        "True or False = True\n",
        "False or True = True\n",
        "False or False = False\n",
        "not True = False\n",
        "not False = False"
      ],
      "metadata": {
        "id": "Jwu3JhxGxJCj"
      },
      "execution_count": 45,
      "outputs": []
    },
    {
      "cell_type": "code",
      "source": [
        "#Answer of Question 4:\n",
        "\n",
        "(5>4) and (3==5) ==> False\n",
        "not (5>4) ==> False\n",
        "(5>4) or (3==5) ==> True\n",
        "not (((5>4)) or (3==5)) ==> False\n",
        "(True and True) and (True == False) ==> False\n",
        "(not False) or (not True) ==> True"
      ],
      "metadata": {
        "id": "oyhNW5B_xJYp"
      },
      "execution_count": null,
      "outputs": []
    },
    {
      "cell_type": "code",
      "source": [
        "#Answer of Question 5:\n",
        "==, !=, >,<,>=,<="
      ],
      "metadata": {
        "id": "Nn7UATz5xJzm"
      },
      "execution_count": 5,
      "outputs": []
    },
    {
      "cell_type": "code",
      "source": [
        "#Answer of Question 6:\n",
        "\n",
        "a = 5  # this equal refers to assinging values\n",
        "b = 5\n",
        "\n",
        "if a == b:   ## here double equal is used for comparison\n",
        "  print(\"Yes they are\")"
      ],
      "metadata": {
        "id": "l_Y0qUdKxKEM"
      },
      "execution_count": null,
      "outputs": []
    },
    {
      "cell_type": "code",
      "source": [
        "#Answer of Question 7:\n",
        "spam = 0\n",
        "\n",
        "if spam ==10:\n",
        "  print('eggs')     ### block 1\n",
        "if spam > 5:\n",
        "  print('bacon')   ### block 2\n",
        "else:\n",
        "  print('ham')    ### block 3 \n",
        "  print('spam')\n",
        "  print('spam')"
      ],
      "metadata": {
        "id": "D5ZxznWCxLqf"
      },
      "execution_count": null,
      "outputs": []
    },
    {
      "cell_type": "code",
      "source": [
        "#Answer of Question 8:\n",
        "\n",
        "spam = int(input())\n",
        "\n",
        "if spam == 1:\n",
        "  print('Hello')\n",
        "elif spam == 2:\n",
        "  print('Howdy')\n",
        "else:\n",
        "  print('Greetings!')"
      ],
      "metadata": {
        "id": "E_a0Fh84xL9d"
      },
      "execution_count": null,
      "outputs": []
    },
    {
      "cell_type": "code",
      "source": [
        "#Answer of Question 9:\n",
        "while True:\n",
        "  print(\"Hi\")\n",
        "\n",
        "  CTRL + C"
      ],
      "metadata": {
        "id": "8ZZqmDe3xMPU"
      },
      "execution_count": 64,
      "outputs": []
    },
    {
      "cell_type": "code",
      "source": [
        "#Answer of Question 10:\n",
        "'''\n",
        "break = if a condition is True, then 'break' breaks the loops and comes out of it\n",
        "continue = if a condition is True, continue just skips it and goes to the next step.\n",
        "'''"
      ],
      "metadata": {
        "id": "BunAToYFxNOM"
      },
      "execution_count": 11,
      "outputs": []
    },
    {
      "cell_type": "code",
      "source": [
        "#Answer of Question 11:\n",
        "\n",
        "range(10): starts: 0 and goes upto 9 excluding 10 having the step size 1.\n",
        "range(0,10): start: 0 , end: 10 , excluding 10, step size = 1\n",
        "range(0,10,1): same as above.\n"
      ],
      "metadata": {
        "id": "qY7x4opNxN3e"
      },
      "execution_count": 12,
      "outputs": []
    },
    {
      "cell_type": "code",
      "source": [
        "#Answer of Question 12:\n",
        "for i in range(1,11):\n",
        "  print(i)\n",
        "\n",
        "\n",
        "\n",
        "n = 1\n",
        "while n<11:\n",
        "  print(n)\n",
        "  n+=1"
      ],
      "metadata": {
        "id": "wkPmRpeZxOUs"
      },
      "execution_count": null,
      "outputs": []
    },
    {
      "cell_type": "code",
      "source": [
        "#Answer of Question 13:\n",
        "class Spam:\n",
        "  def __init__(self,hotdog,sandwitch):\n",
        "    self.hotdog = hotdog\n",
        "    self.sandwitch = sandwitch\n",
        "  def bacon(self):\n",
        "    if self.hotdog == \"Hot\":\n",
        "      print(\"Wait a bit to have it! It can burn your mouth\")\n",
        "\n",
        "\n",
        "spam = Spam(\"Hot\",'overpriced')\n"
      ],
      "metadata": {
        "id": "RPJs4js0xO3R"
      },
      "execution_count": 68,
      "outputs": []
    },
    {
      "cell_type": "code",
      "source": [
        "spam.bacon()  ## calling the function bacon :)"
      ],
      "metadata": {
        "colab": {
          "base_uri": "https://localhost:8080/"
        },
        "id": "HQUTyvSC8DcC",
        "outputId": "9a131aca-bb50-4630-c4ab-9d11b9c758c5"
      },
      "execution_count": 69,
      "outputs": [
        {
          "output_type": "stream",
          "name": "stdout",
          "text": [
            "Wait a bit to have it! It can burn your mouth\n"
          ]
        }
      ]
    }
  ]
}