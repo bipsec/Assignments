{
  "nbformat": 4,
  "nbformat_minor": 0,
  "metadata": {
    "colab": {
      "name": "Assignments_2.ipynb",
      "provenance": []
    },
    "kernelspec": {
      "name": "python3",
      "display_name": "Python 3"
    },
    "language_info": {
      "name": "python"
    }
  },
  "cells": [
    {
      "cell_type": "code",
      "execution_count": 1,
      "metadata": {
        "id": "U8PQowF9on_e"
      },
      "outputs": [],
      "source": [
        "#Answer of 1:\n",
        "\n",
        "'''\n",
        "Because the function helps to code in a modular way and it is more readable.\n",
        "It makes the best use of code not to write repeatedly the same thing in a code.\n",
        "\n",
        "'''"
      ]
    },
    {
      "cell_type": "code",
      "source": [
        "#Answer of 2:\n",
        "'''\n",
        "A function runs when it is defined with a proper name and called in between the code.\n",
        "\n",
        "'''"
      ],
      "metadata": {
        "id": "fOIdaMtJowIU"
      },
      "execution_count": 2,
      "outputs": []
    },
    {
      "cell_type": "code",
      "source": [
        "#Answer of 3:\n",
        "'''\n",
        "def funName():\n",
        "  pass\n",
        "\n",
        "---> def creates the function\n",
        "'''"
      ],
      "metadata": {
        "id": "-F-IHuQIoyhC"
      },
      "execution_count": 3,
      "outputs": []
    },
    {
      "cell_type": "code",
      "source": [
        "#Answer of 4:\n",
        "'''\n",
        "A function is a modular way to write code and the function is called to do the respective job to be done. So, the basic\n",
        "difference is a function is made once and it can be called several times as well as in between the function.\n",
        "\n",
        "'''"
      ],
      "metadata": {
        "id": "xlxc-hQJozCB"
      },
      "execution_count": 4,
      "outputs": []
    },
    {
      "cell_type": "code",
      "source": [
        "#Answer of 5:\n",
        "\n",
        "'''\n",
        "There is only one global scopes in Python and the local scopes can be various in number depending on the number of function and loops and others.\n",
        "\n",
        "'''"
      ],
      "metadata": {
        "id": "3kUkJ9I5ozdy"
      },
      "execution_count": 5,
      "outputs": []
    },
    {
      "cell_type": "code",
      "source": [
        "#Answer of 6:\n",
        "'''\n",
        "It simply returns the output of the function.\n",
        "\n",
        "a = 100\n",
        "def fun():\n",
        "  s = 10\n",
        "  if a>s:\n",
        "    s+=10\n",
        "  return s\n",
        "\n",
        "\n",
        "fun()\n",
        "'''"
      ],
      "metadata": {
        "id": "eI7hQLIvozsq"
      },
      "execution_count": 6,
      "outputs": []
    },
    {
      "cell_type": "code",
      "source": [
        ""
      ],
      "metadata": {
        "id": "49vfF7jisJ_6"
      },
      "execution_count": null,
      "outputs": []
    },
    {
      "cell_type": "code",
      "source": [
        ""
      ],
      "metadata": {
        "id": "x3h0twNxtQ0C"
      },
      "execution_count": null,
      "outputs": []
    },
    {
      "cell_type": "code",
      "source": [
        "#Answer of 7:\n",
        "\n",
        "'''\n",
        "the concept of a return value is so simple; When a function completes it's task return just executes with the result of the fucntion.\n",
        "It's definetly possible to have an exprssion as a return value.\n",
        "\n",
        "'''"
      ],
      "metadata": {
        "id": "hNQy4y6Coz3h"
      },
      "execution_count": 7,
      "outputs": []
    },
    {
      "cell_type": "code",
      "source": [
        "#Answer of 8:\n",
        "'''\n",
        "The return value is NoneType.\n",
        "\n",
        "'''"
      ],
      "metadata": {
        "id": "tKWQfECeo0Ap"
      },
      "execution_count": 8,
      "outputs": []
    },
    {
      "cell_type": "code",
      "source": [
        "#Answer of 9:\n",
        "'''\n",
        "Using the global keyword in the function.\n",
        "\n",
        "'''"
      ],
      "metadata": {
        "id": "0dETaUNmo0KZ"
      },
      "execution_count": 9,
      "outputs": []
    },
    {
      "cell_type": "code",
      "source": [
        "#Answer of 10:\n",
        "'''\n",
        "NoneType\n",
        "\n",
        "'''"
      ],
      "metadata": {
        "id": "RcZj3IYgo0Tx"
      },
      "execution_count": 10,
      "outputs": []
    },
    {
      "cell_type": "code",
      "source": [
        ""
      ],
      "metadata": {
        "id": "WBQAB3XcwAC6"
      },
      "execution_count": null,
      "outputs": []
    },
    {
      "cell_type": "code",
      "source": [
        "#Answer of 11:\n",
        "'''\n",
        "To import a module we call import something; like import areallyourpetsnamederic will import the module\n",
        "\n",
        "'''"
      ],
      "metadata": {
        "id": "A609RxQwo0dS"
      },
      "execution_count": 11,
      "outputs": []
    },
    {
      "cell_type": "code",
      "source": [
        "#Answer of 12:\n",
        "'''\n",
        "import spam\n",
        "from spam import bacon\n",
        "'''"
      ],
      "metadata": {
        "id": "GJc9bQByo0nB"
      },
      "execution_count": 12,
      "outputs": []
    },
    {
      "cell_type": "code",
      "source": [
        "#Answer of 13:\n",
        "'''\n",
        "we can use try and except block from crashing the programme.\n",
        "\n",
        "'''"
      ],
      "metadata": {
        "id": "vmzSF0Kwo0wJ"
      },
      "execution_count": 13,
      "outputs": []
    },
    {
      "cell_type": "code",
      "source": [
        "#Answer of 14:\n",
        "'''\n",
        "try clause:\n",
        "  if a function is suspicious for the user, try will help them to clear the confusion. Try block will at first\n",
        "  try to execute the programme, if succeeded then skips the excepts block.\n",
        "\n",
        "except clause:\n",
        "  it will give the exact error of the programme while running the try block. It helps the code from crashing\n",
        "  and defines the correct error to be handeled.\n",
        "'''"
      ],
      "metadata": {
        "id": "Jcx-5V55o04h"
      },
      "execution_count": 14,
      "outputs": []
    },
    {
      "cell_type": "code",
      "source": [
        ""
      ],
      "metadata": {
        "id": "XJumQteAo2MZ"
      },
      "execution_count": null,
      "outputs": []
    }
  ]
}