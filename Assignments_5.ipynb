{
  "nbformat": 4,
  "nbformat_minor": 0,
  "metadata": {
    "colab": {
      "name": "Assignments_5.ipynb",
      "provenance": []
    },
    "kernelspec": {
      "name": "python3",
      "display_name": "Python 3"
    },
    "language_info": {
      "name": "python"
    }
  },
  "cells": [
    {
      "cell_type": "code",
      "execution_count": 1,
      "metadata": {
        "id": "U8PQowF9on_e",
        "colab": {
          "base_uri": "https://localhost:8080/"
        },
        "outputId": "9ab4c0f9-c45b-4b04-aa01-7ef905b408d1"
      },
      "outputs": [
        {
          "output_type": "execute_result",
          "data": {
            "text/plain": [
              "dict_items([])"
            ]
          },
          "metadata": {},
          "execution_count": 1
        }
      ],
      "source": [
        "#Answer of 1:\n",
        "empty_dict = {}\n",
        "empty_dict.items()"
      ]
    },
    {
      "cell_type": "code",
      "source": [
        "#Answer of 2:\n",
        "new_dict = {'foo':42}\n",
        "new_dict.values()"
      ],
      "metadata": {
        "id": "fOIdaMtJowIU",
        "colab": {
          "base_uri": "https://localhost:8080/"
        },
        "outputId": "dfffac3c-1a74-4252-f280-f391d88dec82"
      },
      "execution_count": 2,
      "outputs": [
        {
          "output_type": "execute_result",
          "data": {
            "text/plain": [
              "dict_values([42])"
            ]
          },
          "metadata": {},
          "execution_count": 2
        }
      ]
    },
    {
      "cell_type": "code",
      "source": [
        "#Answer of 3:\n",
        "'''\n",
        "The most significant distinction between a list and a dictionary is, dictionary contains pair of objects: keys and values \n",
        "but list only contains collections of objects. Both of them can hold different types of data.\n",
        "\n",
        "'''"
      ],
      "metadata": {
        "id": "-F-IHuQIoyhC",
        "colab": {
          "base_uri": "https://localhost:8080/",
          "height": 52
        },
        "outputId": "71f89fff-c619-4b52-8a25-294d006d3b78"
      },
      "execution_count": 3,
      "outputs": [
        {
          "output_type": "execute_result",
          "data": {
            "text/plain": [
              "'\\nThe most significant distinction between a list and a dictionary is, dictionary contains pair of objects: keys and values \\nbut list only contains collections of objects. Both of them can hold different types of data.\\n\\n'"
            ],
            "application/vnd.google.colaboratory.intrinsic+json": {
              "type": "string"
            }
          },
          "metadata": {},
          "execution_count": 3
        }
      ]
    },
    {
      "cell_type": "code",
      "source": [
        "#Answer of 4:\n",
        "\n",
        "spam = {'bar': 100}\n",
        "spam['foo']         ### KeyError: 'foo'-->  because it doesn't have any key name 'foo'"
      ],
      "metadata": {
        "id": "xlxc-hQJozCB"
      },
      "execution_count": 4,
      "outputs": []
    },
    {
      "cell_type": "code",
      "source": [
        "#Answer of 5:\n",
        "\n",
        "spam = {'bar': 100,'animal':'cat','cat_sound': ['mew','meao','chukypuky']}\n",
        "\n",
        "'cat' in spam\n",
        "'cat' in spam.keys()"
      ],
      "metadata": {
        "id": "3kUkJ9I5ozdy",
        "colab": {
          "base_uri": "https://localhost:8080/"
        },
        "outputId": "64ff5d4d-22e0-45d6-f4b2-e33e711e6162"
      },
      "execution_count": 5,
      "outputs": [
        {
          "output_type": "execute_result",
          "data": {
            "text/plain": [
              "False"
            ]
          },
          "metadata": {},
          "execution_count": 5
        }
      ]
    },
    {
      "cell_type": "code",
      "source": [
        "spam"
      ],
      "metadata": {
        "colab": {
          "base_uri": "https://localhost:8080/"
        },
        "id": "FBUrcYLaIEWA",
        "outputId": "0d95d948-d606-4b17-b775-0a08a25e574b"
      },
      "execution_count": 6,
      "outputs": [
        {
          "output_type": "execute_result",
          "data": {
            "text/plain": [
              "{'animal': 'cat', 'bar': 100, 'cat_sound': ['mew', 'meao', 'chukypuky']}"
            ]
          },
          "metadata": {},
          "execution_count": 6
        }
      ]
    },
    {
      "cell_type": "code",
      "source": [
        "#Answer of 6:\n",
        "'cat' in spam.values()"
      ],
      "metadata": {
        "id": "eI7hQLIvozsq",
        "colab": {
          "base_uri": "https://localhost:8080/"
        },
        "outputId": "2bac3f1e-e8ca-47ed-ed12-386b6f095dd5"
      },
      "execution_count": 7,
      "outputs": [
        {
          "output_type": "execute_result",
          "data": {
            "text/plain": [
              "True"
            ]
          },
          "metadata": {},
          "execution_count": 7
        }
      ]
    },
    {
      "cell_type": "code",
      "source": [
        "#Answer of 7:\n",
        "\n",
        "# if 'color' not in spam:\n",
        "#   spam['color'] = 'black'\n",
        "\n",
        "# Alternative code\n",
        "\n",
        "spam.setdefault('color','black')"
      ],
      "metadata": {
        "id": "hNQy4y6Coz3h",
        "colab": {
          "base_uri": "https://localhost:8080/",
          "height": 35
        },
        "outputId": "fa78b2ec-2b19-4577-9eaf-1aa559422641"
      },
      "execution_count": 8,
      "outputs": [
        {
          "output_type": "execute_result",
          "data": {
            "text/plain": [
              "'black'"
            ],
            "application/vnd.google.colaboratory.intrinsic+json": {
              "type": "string"
            }
          },
          "metadata": {},
          "execution_count": 8
        }
      ]
    },
    {
      "cell_type": "code",
      "source": [
        "spam"
      ],
      "metadata": {
        "colab": {
          "base_uri": "https://localhost:8080/"
        },
        "id": "EU0oO2Z1IfpI",
        "outputId": "deb35f01-956d-47ad-ced1-f4bec5b09b6b"
      },
      "execution_count": 9,
      "outputs": [
        {
          "output_type": "execute_result",
          "data": {
            "text/plain": [
              "{'animal': 'cat',\n",
              " 'bar': 100,\n",
              " 'cat_sound': ['mew', 'meao', 'chukypuky'],\n",
              " 'color': 'black'}"
            ]
          },
          "metadata": {},
          "execution_count": 9
        }
      ]
    },
    {
      "cell_type": "code",
      "source": [
        "#Answer of 8:\n",
        "from pprint import pprint\n",
        "\n",
        "spam =  {'animal': 'cat',\n",
        "          'bar': 100,\n",
        "            'cat_sound': ['mew', 'meao', 'chukypuky'],\n",
        "              'color': 'black'}\n",
        "\n",
        "pprint(spam)"
      ],
      "metadata": {
        "id": "tKWQfECeo0Ap",
        "colab": {
          "base_uri": "https://localhost:8080/"
        },
        "outputId": "a875e865-f1d6-4dcb-bafc-08dc8eba42b5"
      },
      "execution_count": 10,
      "outputs": [
        {
          "output_type": "stream",
          "name": "stdout",
          "text": [
            "{'animal': 'cat',\n",
            " 'bar': 100,\n",
            " 'cat_sound': ['mew', 'meao', 'chukypuky'],\n",
            " 'color': 'black'}\n"
          ]
        }
      ]
    }
  ]
}