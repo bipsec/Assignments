{
  "nbformat": 4,
  "nbformat_minor": 0,
  "metadata": {
    "colab": {
      "name": "Assignments_1.ipynb",
      "provenance": []
    },
    "kernelspec": {
      "name": "python3",
      "display_name": "Python 3"
    },
    "language_info": {
      "name": "python"
    }
  },
  "cells": [
    {
      "cell_type": "markdown",
      "source": [
        "#Answer of Question 1: \n",
        "\n",
        "values  = 'hello', -87.8, 6\n",
        "expression = *,-,/,+\n",
        "\n",
        "\n",
        "\n",
        "#Answer of Question 2: \n",
        "\n",
        "Variable: Variables are used to store info that can be manipulated through computer programming.\n",
        "Example of Variable - \n",
        "    a = 5\n",
        "    b = 4.0\n",
        "String: A String is a data type comprised of sequence of characters as well as space and numbers.\n",
        "\n",
        "  name = \"Biplab Kumar Sarkar\" # here name is a variable that holds string type data\n",
        "\n",
        "\n",
        "\n",
        "#Answer of Question 3: \n",
        "Data Types: \n",
        "Integer : Represents the integer values only. 3,4,5\n",
        "Float: Contains values after decimal point. 45.89, 67.00\n",
        "List: Holds value of different data types including a square bracket and it's iterable. [1,'a',(1,2){'name':'biplab','age': 25}]\n",
        "Dictionary: Holds values based on key. Each key can store different types of values. {'name':'biplab','age': 25}\n",
        "\n",
        "\n",
        "\n",
        "#Answer of Question 4: \n",
        "\n",
        "Expressions are made up of mathmetical operators, fumctions. They do logical operations according to the programming language syntax and as commanded logically. And it definetly it has returned type.\n",
        "\n",
        "#Answer of Question 5: \n",
        "Expression returns values or something but statement doesn't. spam= 10 will return the value 10 if it is called but in a statement it will not return anything.\n",
        "\n",
        "#Answer of Question 6: \n",
        "bacon = 23\n",
        "\n",
        "\n",
        "#Answer of Question 7:\n",
        "'spamspamspam'\n",
        "'spamspamspam'\n",
        "\n",
        "\n",
        "#Answer of Question 8:\n",
        "variable should be named after alphanumeric character but not any number. some unique sign can also be used as the first letter to assign a variable.\n",
        "\n",
        "\n",
        "\n",
        "#Answer of Question 9:\n",
        "val = 9\n",
        "int(val)\n",
        "float(val)\n",
        "str(val)\n",
        "\n",
        "\n",
        "\n",
        "#Answer of Question 10:\n",
        "\n",
        "stirng and integer concatenation refer some error and it's not possible. If the number 99 is converted to a string then it will not give any error.\n",
        "\n",
        "'I have eaten' + ' 99' + ' burritos'"
      ],
      "metadata": {
        "id": "L960BxpXqx_g"
      }
    }
  ]
}