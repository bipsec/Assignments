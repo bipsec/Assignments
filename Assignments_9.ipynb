{
  "nbformat": 4,
  "nbformat_minor": 0,
  "metadata": {
    "colab": {
      "name": "Assignments_9.ipynb",
      "provenance": []
    },
    "kernelspec": {
      "name": "python3",
      "display_name": "Python 3"
    },
    "language_info": {
      "name": "python"
    }
  },
  "cells": [
    {
      "cell_type": "code",
      "execution_count": 1,
      "metadata": {
        "id": "U8PQowF9on_e",
        "colab": {
          "base_uri": "https://localhost:8080/",
          "height": 35
        },
        "outputId": "d0becbde-3fe1-45e3-c16a-926d00b515bf"
      },
      "outputs": [
        {
          "output_type": "execute_result",
          "data": {
            "text/plain": [
              "' A relative path refers to a location that is relative to a current directory. '"
            ],
            "application/vnd.google.colaboratory.intrinsic+json": {
              "type": "string"
            }
          },
          "metadata": {},
          "execution_count": 1
        }
      ],
      "source": [
        "#Answer of 1:\n",
        "''' A relative path refers to a location that is relative to a current directory. '''"
      ]
    },
    {
      "cell_type": "code",
      "source": [
        "#Answer of 2:\n",
        "''' /(slash) '''"
      ],
      "metadata": {
        "id": "fOIdaMtJowIU",
        "colab": {
          "base_uri": "https://localhost:8080/",
          "height": 35
        },
        "outputId": "5d3eca3f-7b53-4800-da46-a3a4afcb3de7"
      },
      "execution_count": 2,
      "outputs": [
        {
          "output_type": "execute_result",
          "data": {
            "text/plain": [
              "' /(slash) '"
            ],
            "application/vnd.google.colaboratory.intrinsic+json": {
              "type": "string"
            }
          },
          "metadata": {},
          "execution_count": 2
        }
      ]
    },
    {
      "cell_type": "code",
      "source": [
        "#Answer of 3:\n",
        "\n",
        "''' os.getcwd() --> gets the current directory\n",
        "    os.chdir()  --> changes to the desired directory'''"
      ],
      "metadata": {
        "id": "-F-IHuQIoyhC"
      },
      "execution_count": null,
      "outputs": []
    },
    {
      "cell_type": "code",
      "source": [
        "#Answer of 4:\n",
        "\n",
        "'''\n",
        ". folder ---> current directory\n",
        ".. folder --> parent directory\n",
        "\n",
        "'''"
      ],
      "metadata": {
        "id": "xlxc-hQJozCB"
      },
      "execution_count": null,
      "outputs": []
    },
    {
      "cell_type": "code",
      "source": [
        "#Answer of 5:\n",
        "\n",
        "''' \n",
        "\n",
        "C:\\bacon\\eggs\\spam.txt --> eggs part is the directory name and C:\\bacon is the base directory\n",
        "\n",
        "\n",
        "'''"
      ],
      "metadata": {
        "id": "3kUkJ9I5ozdy"
      },
      "execution_count": null,
      "outputs": []
    },
    {
      "cell_type": "code",
      "source": [
        "#Answer of 6:\n",
        "\n",
        "''' \n",
        "Read, Write and Append in the file\n",
        "'''"
      ],
      "metadata": {
        "id": "eI7hQLIvozsq"
      },
      "execution_count": null,
      "outputs": []
    },
    {
      "cell_type": "code",
      "source": [
        "#Answer of 7:\n",
        "''' \n",
        "If a file is opened in write mode it will rewrite the file with the same name or it will create the file if it doesn't exist.\n",
        "\n",
        "'''"
      ],
      "metadata": {
        "id": "hNQy4y6Coz3h"
      },
      "execution_count": null,
      "outputs": []
    },
    {
      "cell_type": "code",
      "source": [
        "#Answer of 8:\n",
        "myfile = open(\"test.txt\", \"r\")\n",
        "myline = myfile.readline()  ### readline just reads the complete line from the file\n",
        "print(myline)\n",
        "myfile.close()"
      ],
      "metadata": {
        "id": "tKWQfECeo0Ap",
        "colab": {
          "base_uri": "https://localhost:8080/"
        },
        "outputId": "c6b48f06-7123-4750-cca7-40891b7ba111"
      },
      "execution_count": 31,
      "outputs": [
        {
          "output_type": "stream",
          "name": "stdout",
          "text": [
            "Testing - FirstLine\n",
            "\n"
          ]
        }
      ]
    },
    {
      "cell_type": "code",
      "source": [
        "myfile = open(\"test.txt\", \"r\")\n",
        "myfile.read()   ### read mode reads the whole file with the new line."
      ],
      "metadata": {
        "colab": {
          "base_uri": "https://localhost:8080/",
          "height": 35
        },
        "id": "Sxc7Zj8gVM1_",
        "outputId": "9d4c9dcb-c73e-400b-d6ca-eb3141377295"
      },
      "execution_count": 30,
      "outputs": [
        {
          "output_type": "execute_result",
          "data": {
            "text/plain": [
              "'Testing - FirstLine\\nTesting - SecondLine\\nTesting - Third Line\\nTesting - Fourth Line\\nTesting - Fifth Line'"
            ],
            "application/vnd.google.colaboratory.intrinsic+json": {
              "type": "string"
            }
          },
          "metadata": {},
          "execution_count": 30
        }
      ]
    },
    {
      "cell_type": "code",
      "source": [
        "#Answer of 9:\n",
        "import shelve\n",
        "with shelve.open('spam') as db:\n",
        "    db['eggs'] = 'eggs'"
      ],
      "metadata": {
        "id": "0dETaUNmo0KZ"
      },
      "execution_count": 33,
      "outputs": []
    },
    {
      "cell_type": "code",
      "source": [
        "print(db.keys())"
      ],
      "metadata": {
        "colab": {
          "base_uri": "https://localhost:8080/"
        },
        "id": "PMW2p2AiYKvu",
        "outputId": "4f90b834-dc1d-4d12-bddb-250a57809fd9"
      },
      "execution_count": 35,
      "outputs": [
        {
          "output_type": "stream",
          "name": "stdout",
          "text": [
            "KeysView(<shelve.DbfilenameShelf object at 0x7f4512c967d0>)\n"
          ]
        }
      ]
    },
    {
      "cell_type": "code",
      "source": [
        "print(db.values())"
      ],
      "metadata": {
        "colab": {
          "base_uri": "https://localhost:8080/"
        },
        "id": "BF1ZXNeCYRcW",
        "outputId": "7d21bb36-514d-4ea7-c20b-ad8a1531201a"
      },
      "execution_count": 36,
      "outputs": [
        {
          "output_type": "stream",
          "name": "stdout",
          "text": [
            "ValuesView(<shelve.DbfilenameShelf object at 0x7f4512c967d0>)\n"
          ]
        }
      ]
    },
    {
      "cell_type": "code",
      "source": [
        "'''\n",
        "It resembeles dictionary. It has both keys and values\n",
        "\n",
        "'''"
      ],
      "metadata": {
        "colab": {
          "base_uri": "https://localhost:8080/",
          "height": 35
        },
        "id": "qOlCF-lGihK5",
        "outputId": "edf349c5-8d48-4b26-e226-0fed9a3e9de0"
      },
      "execution_count": 41,
      "outputs": [
        {
          "output_type": "execute_result",
          "data": {
            "text/plain": [
              "'\\nIt resembeles dictionary. It has both keys and values\\n\\n'"
            ],
            "application/vnd.google.colaboratory.intrinsic+json": {
              "type": "string"
            }
          },
          "metadata": {},
          "execution_count": 41
        }
      ]
    },
    {
      "cell_type": "code",
      "source": [
        ""
      ],
      "metadata": {
        "id": "Zt1gEGi1ioMf"
      },
      "execution_count": null,
      "outputs": []
    }
  ]
}