{
  "nbformat": 4,
  "nbformat_minor": 0,
  "metadata": {
    "colab": {
      "name": "Assignments_4.ipynb",
      "provenance": []
    },
    "kernelspec": {
      "name": "python3",
      "display_name": "Python 3"
    },
    "language_info": {
      "name": "python"
    }
  },
  "cells": [
    {
      "cell_type": "code",
      "execution_count": null,
      "metadata": {
        "id": "U8PQowF9on_e",
        "colab": {
          "base_uri": "https://localhost:8080/",
          "height": 35
        },
        "outputId": "1449989c-c5fd-4239-8ae6-a5c7a8e01547"
      },
      "outputs": [
        {
          "output_type": "execute_result",
          "data": {
            "text/plain": [
              "'\\nIt refers to a list\\n\\n'"
            ],
            "application/vnd.google.colaboratory.intrinsic+json": {
              "type": "string"
            }
          },
          "metadata": {},
          "execution_count": 1
        }
      ],
      "source": [
        "#Answer of 1:\n",
        "'''\n",
        "It refers to a list\n",
        "\n",
        "'''"
      ]
    },
    {
      "cell_type": "code",
      "source": [
        "#Answer of 2:\n",
        "spam = [2, 4, 6, 8, 10]\n",
        "spam[2] = \"hello\"\n",
        "spam[2]"
      ],
      "metadata": {
        "id": "fOIdaMtJowIU",
        "colab": {
          "base_uri": "https://localhost:8080/",
          "height": 35
        },
        "outputId": "1e1d6819-23c2-4062-cee1-485f8d6c52b6"
      },
      "execution_count": null,
      "outputs": [
        {
          "output_type": "execute_result",
          "data": {
            "text/plain": [
              "'hello'"
            ],
            "application/vnd.google.colaboratory.intrinsic+json": {
              "type": "string"
            }
          },
          "metadata": {},
          "execution_count": 2
        }
      ]
    },
    {
      "cell_type": "code",
      "source": [
        "#Answer of 3:\n",
        "\n",
        "spam = ['a','b','c','d']\n",
        "spam[int(int('3' * 2) / 11)]\n",
        "\n",
        "'''\n",
        "\n",
        "'d'\n",
        "\n",
        "'''"
      ],
      "metadata": {
        "id": "-F-IHuQIoyhC",
        "colab": {
          "base_uri": "https://localhost:8080/",
          "height": 35
        },
        "outputId": "e7c4c28f-f342-4147-f402-6b6e64a65594"
      },
      "execution_count": null,
      "outputs": [
        {
          "output_type": "execute_result",
          "data": {
            "text/plain": [
              "\"\\n\\n'd'\\n\\n\""
            ],
            "application/vnd.google.colaboratory.intrinsic+json": {
              "type": "string"
            }
          },
          "metadata": {},
          "execution_count": 3
        }
      ]
    },
    {
      "cell_type": "code",
      "source": [
        "#Answer of 4:\n",
        "spam[-1]\n",
        "\n",
        "'''\n",
        "\n",
        "'d'\n",
        "\n",
        "'''\n"
      ],
      "metadata": {
        "id": "xlxc-hQJozCB",
        "colab": {
          "base_uri": "https://localhost:8080/",
          "height": 35
        },
        "outputId": "9310ac33-4ba0-4621-e4da-905e91598f56"
      },
      "execution_count": null,
      "outputs": [
        {
          "output_type": "execute_result",
          "data": {
            "text/plain": [
              "\"\\n\\n'd'\\n\\n\""
            ],
            "application/vnd.google.colaboratory.intrinsic+json": {
              "type": "string"
            }
          },
          "metadata": {},
          "execution_count": 4
        }
      ]
    },
    {
      "cell_type": "code",
      "source": [
        "#Answer of 5:\n",
        "spam[:2]\n",
        "\n",
        "'''\n",
        "['a', 'b']\n",
        "\n",
        "'''"
      ],
      "metadata": {
        "id": "3kUkJ9I5ozdy",
        "colab": {
          "base_uri": "https://localhost:8080/",
          "height": 35
        },
        "outputId": "36c28a06-927c-4bad-9b54-8ba3d683f4a5"
      },
      "execution_count": null,
      "outputs": [
        {
          "output_type": "execute_result",
          "data": {
            "text/plain": [
              "\"\\n['a', 'b']\\n\\n\""
            ],
            "application/vnd.google.colaboratory.intrinsic+json": {
              "type": "string"
            }
          },
          "metadata": {},
          "execution_count": 5
        }
      ]
    },
    {
      "cell_type": "code",
      "source": [
        "#Answer of 6:\n",
        "\n",
        "bacon = [3.14, 'cat',11,'cat',True]\n",
        "bacon.index('cat')"
      ],
      "metadata": {
        "id": "eI7hQLIvozsq",
        "colab": {
          "base_uri": "https://localhost:8080/"
        },
        "outputId": "d882d88c-a93b-4d04-8d36-fed51cdd6ad9"
      },
      "execution_count": null,
      "outputs": [
        {
          "output_type": "execute_result",
          "data": {
            "text/plain": [
              "1"
            ]
          },
          "metadata": {},
          "execution_count": 6
        }
      ]
    },
    {
      "cell_type": "code",
      "source": [
        ""
      ],
      "metadata": {
        "id": "bw3xTxHO1hmi"
      },
      "execution_count": null,
      "outputs": []
    },
    {
      "cell_type": "code",
      "source": [
        "#Answer of 7:\n",
        "bacon.append(99)\n",
        "bacon"
      ],
      "metadata": {
        "id": "hNQy4y6Coz3h",
        "colab": {
          "base_uri": "https://localhost:8080/"
        },
        "outputId": "86624931-a9d1-4336-e4f6-fd160fe21db6"
      },
      "execution_count": null,
      "outputs": [
        {
          "output_type": "execute_result",
          "data": {
            "text/plain": [
              "[3.14, 'cat', 11, 'cat', True, 99]"
            ]
          },
          "metadata": {},
          "execution_count": 7
        }
      ]
    },
    {
      "cell_type": "code",
      "source": [
        "#Answer of 8:\n",
        "bacon.remove('cat')\n",
        "bacon"
      ],
      "metadata": {
        "id": "tKWQfECeo0Ap",
        "colab": {
          "base_uri": "https://localhost:8080/"
        },
        "outputId": "67733376-2cb3-4dd4-99bf-ad8bd4a4488f"
      },
      "execution_count": null,
      "outputs": [
        {
          "output_type": "execute_result",
          "data": {
            "text/plain": [
              "[3.14, 11, 'cat', True, 99]"
            ]
          },
          "metadata": {},
          "execution_count": 8
        }
      ]
    },
    {
      "cell_type": "code",
      "source": [
        "#Answer of 9:\n",
        "\n",
        "#List concatenation: \n",
        "\n",
        "l = ['1','2','3']\n",
        "l2 = ['4','5','6']\n",
        "concatenated_list = l + l2\n",
        "print(concatenated_list)\n",
        "\n",
        "# List Replication\n",
        "replicated_list = l * 3\n",
        "print(replicated_list)\n"
      ],
      "metadata": {
        "id": "0dETaUNmo0KZ",
        "colab": {
          "base_uri": "https://localhost:8080/"
        },
        "outputId": "d31d879a-6ea5-471d-e9be-8766c9ce5a89"
      },
      "execution_count": null,
      "outputs": [
        {
          "output_type": "stream",
          "name": "stdout",
          "text": [
            "['1', '2', '3', '4', '5', '6']\n",
            "['1', '2', '3', '1', '2', '3', '1', '2', '3']\n"
          ]
        }
      ]
    },
    {
      "cell_type": "code",
      "source": [
        "#Answer of 10:\n",
        "list1 = [1,2,3,4,5,6,7]\n",
        "list1.append(9)          # append method appends the value in the last position of a list\n",
        "list1.insert(2,5)        # insert method inserts value in the specific position\n",
        "list1"
      ],
      "metadata": {
        "id": "RcZj3IYgo0Tx",
        "colab": {
          "base_uri": "https://localhost:8080/"
        },
        "outputId": "8273f60c-e888-41a0-d19d-f397f885e765"
      },
      "execution_count": null,
      "outputs": [
        {
          "output_type": "execute_result",
          "data": {
            "text/plain": [
              "[1, 2, 5, 3, 4, 5, 6, 7, 9]"
            ]
          },
          "metadata": {},
          "execution_count": 10
        }
      ]
    },
    {
      "cell_type": "code",
      "source": [
        "#Answer of 11:\n",
        "list1 = [1,2,3,4,5,6,7]\n",
        "list1.remove(3)  # first method to remove item from a list\n",
        "list1.pop()      # second method to remove item from a list\n",
        "list1"
      ],
      "metadata": {
        "id": "A609RxQwo0dS",
        "colab": {
          "base_uri": "https://localhost:8080/"
        },
        "outputId": "fabb723f-dc37-469d-ee27-79416b6d4a82"
      },
      "execution_count": null,
      "outputs": [
        {
          "output_type": "execute_result",
          "data": {
            "text/plain": [
              "[1, 2, 4, 5, 6]"
            ]
          },
          "metadata": {},
          "execution_count": 11
        }
      ]
    },
    {
      "cell_type": "code",
      "source": [
        "#Answer of 12:\n",
        "\n",
        "'''\n",
        "The similarity of both List and String is that they both are collection of ordered sequence. And the main difference is that list\n",
        "is mutable and string is immutable. Elements of list can be of different types whereas string contains character which are string in type.\n",
        "\n",
        "'''\n"
      ],
      "metadata": {
        "id": "GJc9bQByo0nB",
        "colab": {
          "base_uri": "https://localhost:8080/",
          "height": 52
        },
        "outputId": "a5873d15-a65a-4b8b-dd29-aaa4d7c4c08b"
      },
      "execution_count": null,
      "outputs": [
        {
          "output_type": "execute_result",
          "data": {
            "text/plain": [
              "'\\nThe similarity of both List and String is that they both are collection of ordered sequence. And the main difference is that list\\nis mutable and string is immutable. Elements of list can be of different types whereas string contains character which are string in type.\\n\\n'"
            ],
            "application/vnd.google.colaboratory.intrinsic+json": {
              "type": "string"
            }
          },
          "metadata": {},
          "execution_count": 12
        }
      ]
    },
    {
      "cell_type": "code",
      "source": [
        "#Answer of 13:\n",
        "'''\n",
        "The basic difference of both lists and tuples is that Lists are mutable but tuples are immutable.\n",
        "\n",
        "'''"
      ],
      "metadata": {
        "id": "vmzSF0Kwo0wJ",
        "colab": {
          "base_uri": "https://localhost:8080/",
          "height": 35
        },
        "outputId": "33934eeb-8962-484b-8a9c-808be1bc4633"
      },
      "execution_count": null,
      "outputs": [
        {
          "output_type": "execute_result",
          "data": {
            "text/plain": [
              "'\\nThe basic difference of both lists and tuples is that Lists are mutable but tuples are immutable.\\n\\n'"
            ],
            "application/vnd.google.colaboratory.intrinsic+json": {
              "type": "string"
            }
          },
          "metadata": {},
          "execution_count": 13
        }
      ]
    },
    {
      "cell_type": "code",
      "source": [
        "#Answer of 14:\n",
        "val = (42,)"
      ],
      "metadata": {
        "id": "Jcx-5V55o04h"
      },
      "execution_count": null,
      "outputs": []
    },
    {
      "cell_type": "code",
      "source": [
        "type(val)\n"
      ],
      "metadata": {
        "id": "XJumQteAo2MZ",
        "colab": {
          "base_uri": "https://localhost:8080/"
        },
        "outputId": "bf9bd79c-0ab0-49bd-e645-b4ec1af8d3d6"
      },
      "execution_count": null,
      "outputs": [
        {
          "output_type": "execute_result",
          "data": {
            "text/plain": [
              "tuple"
            ]
          },
          "metadata": {},
          "execution_count": 15
        }
      ]
    },
    {
      "cell_type": "code",
      "source": [
        "#Answer of 15:\n",
        "\n",
        "list1 = [1,2,3,4,5,6]\n",
        "tuple_list1= tuple(list1)\n",
        "\n",
        "print(tuple_list1)\n",
        "\n",
        "val = (1, 2, 3, 4, 5, 6)\n",
        "val = list(val)\n",
        "print(val)"
      ],
      "metadata": {
        "colab": {
          "base_uri": "https://localhost:8080/"
        },
        "id": "lLKs47d_8x-5",
        "outputId": "a598ade5-cfa8-4dde-acb1-be90162f452b"
      },
      "execution_count": null,
      "outputs": [
        {
          "output_type": "stream",
          "name": "stdout",
          "text": [
            "(1, 2, 3, 4, 5, 6)\n",
            "[1, 2, 3, 4, 5, 6]\n"
          ]
        }
      ]
    },
    {
      "cell_type": "code",
      "source": [
        "#Answer of 16:\n",
        "\n",
        "\n",
        "a = (\"asad\",[4,5,6],1,2,{\"name\":\"biplab\"})\n",
        "print(type(a))\n",
        "b = {\"name\": [\"biplab\",\"aman\",\"mubin\"]}\n",
        "print(type(b))"
      ],
      "metadata": {
        "colab": {
          "base_uri": "https://localhost:8080/"
        },
        "id": "S73VRkON9bT5",
        "outputId": "111cf677-c5c5-4224-d372-2f189dc1f97d"
      },
      "execution_count": null,
      "outputs": [
        {
          "output_type": "stream",
          "name": "stdout",
          "text": [
            "<class 'tuple'>\n",
            "<class 'dict'>\n"
          ]
        }
      ]
    },
    {
      "cell_type": "code",
      "source": [
        "#Answer of 17:\n",
        "\n",
        "'''\n",
        "copy.copy() ---> it copies the original object but gives the reference to the original object\n",
        "\n",
        "copy.deepcopy --> it doesn't copy the reference of original object rather it creates new object from the original object and refers to that.\n",
        "\n",
        "\n",
        "'''\n"
      ],
      "metadata": {
        "colab": {
          "base_uri": "https://localhost:8080/",
          "height": 52
        },
        "id": "-hDS2JuZ9cph",
        "outputId": "8f535f98-a7f9-4e58-9c3d-918c7f74a76d"
      },
      "execution_count": null,
      "outputs": [
        {
          "output_type": "execute_result",
          "data": {
            "text/plain": [
              "\"\\ncopy.copy() ---> it copies the original object but gives the reference to the original object\\n\\ncopy.deepcopy --> it doesn't copy the reference of original object rather it creates new object from the original object and refers to that.\\n\\n\\n\""
            ],
            "application/vnd.google.colaboratory.intrinsic+json": {
              "type": "string"
            }
          },
          "metadata": {},
          "execution_count": 18
        }
      ]
    },
    {
      "cell_type": "code",
      "source": [
        "import copy\n",
        "\n",
        "class Foo(object):\n",
        "    def __init__(self):\n",
        "        pass\n",
        "\n",
        "\n",
        "a = [Foo(), Foo()]\n",
        "shallow = copy.copy(a)\n",
        "deep = copy.deepcopy(a)"
      ],
      "metadata": {
        "id": "Xw6NxMYe_dkx"
      },
      "execution_count": null,
      "outputs": []
    },
    {
      "cell_type": "code",
      "source": [
        "a"
      ],
      "metadata": {
        "colab": {
          "base_uri": "https://localhost:8080/"
        },
        "id": "N0dq9fW7Bwkw",
        "outputId": "eda12a40-bf05-49cf-9fd6-c4b8b7ae2a24"
      },
      "execution_count": null,
      "outputs": [
        {
          "output_type": "execute_result",
          "data": {
            "text/plain": [
              "[<__main__.Foo at 0x7f1de372e250>, <__main__.Foo at 0x7f1de372e210>]"
            ]
          },
          "metadata": {},
          "execution_count": 20
        }
      ]
    },
    {
      "cell_type": "code",
      "source": [
        "shallow"
      ],
      "metadata": {
        "colab": {
          "base_uri": "https://localhost:8080/"
        },
        "id": "h6SfqjfNBqfB",
        "outputId": "03fd30a9-64dd-4813-f360-3d48f9615119"
      },
      "execution_count": null,
      "outputs": [
        {
          "output_type": "execute_result",
          "data": {
            "text/plain": [
              "[<__main__.Foo at 0x7f1de372e250>, <__main__.Foo at 0x7f1de372e210>]"
            ]
          },
          "metadata": {},
          "execution_count": 21
        }
      ]
    },
    {
      "cell_type": "code",
      "source": [
        "deep"
      ],
      "metadata": {
        "colab": {
          "base_uri": "https://localhost:8080/"
        },
        "id": "Ccu_SytqBsjo",
        "outputId": "618782f0-4fc0-4ce3-cd6d-af71bf2c374e"
      },
      "execution_count": null,
      "outputs": [
        {
          "output_type": "execute_result",
          "data": {
            "text/plain": [
              "[<__main__.Foo at 0x7f1de372e8d0>, <__main__.Foo at 0x7f1de372e450>]"
            ]
          },
          "metadata": {},
          "execution_count": 22
        }
      ]
    },
    {
      "cell_type": "code",
      "source": [
        ""
      ],
      "metadata": {
        "id": "jhRbYYsnBtsB"
      },
      "execution_count": null,
      "outputs": []
    }
  ]
}