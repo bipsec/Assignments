{
  "nbformat": 4,
  "nbformat_minor": 0,
  "metadata": {
    "colab": {
      "name": "Assignments_6.ipynb",
      "provenance": []
    },
    "kernelspec": {
      "name": "python3",
      "display_name": "Python 3"
    },
    "language_info": {
      "name": "python"
    }
  },
  "cells": [
    {
      "cell_type": "code",
      "execution_count": null,
      "metadata": {
        "id": "U8PQowF9on_e"
      },
      "outputs": [],
      "source": [
        "#Answer of 1:\n",
        "\n",
        "'''\n",
        "Escape characters:\n",
        "\\t\n",
        "\\n\n",
        "\\'\n",
        "\\\\\n",
        "\\b\n",
        "\\r\n",
        "\n",
        "\n",
        "'''\n",
        "\n",
        "text = \"My name is \\tBiplab\"\n",
        "text1 = \"My name is \\nBiplab\"\n",
        "text2 = \"My name\\'s Biplab\"\n",
        "text3 = \"My name \\\\is Biplab\"\n",
        "text4 = \"My name \\bis Biplab\"\n",
        "text5 = \"My name \\ris Biplab\""
      ]
    },
    {
      "cell_type": "code",
      "source": [
        "print(text)\n",
        "print(text1)\n",
        "print(text2)\n",
        "print(text3)\n",
        "print(text4)\n",
        "print(text5)"
      ],
      "metadata": {
        "colab": {
          "base_uri": "https://localhost:8080/"
        },
        "id": "VGkpTTAeMpnQ",
        "outputId": "3d0d0023-b68a-4e5a-c921-a7e297c5451b"
      },
      "execution_count": null,
      "outputs": [
        {
          "output_type": "stream",
          "name": "stdout",
          "text": [
            "My name is \tBiplab\n",
            "My name is \n",
            "Biplab\n",
            "My name's Biplab\n",
            "My name \\is Biplab\n",
            "My name \bis Biplab\n",
            "My name \ris Biplab\n"
          ]
        }
      ]
    },
    {
      "cell_type": "code",
      "source": [
        "#Answer of 2:\n",
        "'''\n",
        "n --> stands for new line\n",
        "t --> stands for tab\n",
        "\n",
        "'''"
      ],
      "metadata": {
        "id": "fOIdaMtJowIU"
      },
      "execution_count": null,
      "outputs": []
    },
    {
      "cell_type": "code",
      "source": [
        "#Answer of 3:\n",
        "string = \"\\\\My country is Beautiful\\\\\"\n",
        "print(string)"
      ],
      "metadata": {
        "id": "-F-IHuQIoyhC",
        "colab": {
          "base_uri": "https://localhost:8080/"
        },
        "outputId": "a4e54533-b0e6-45c2-e723-d1a0fde2aea4"
      },
      "execution_count": null,
      "outputs": [
        {
          "output_type": "stream",
          "name": "stdout",
          "text": [
            "\\My country is Beautiful\\\n"
          ]
        }
      ]
    },
    {
      "cell_type": "code",
      "source": [
        "#Answer of 4:\n",
        "content = \"Howl's moving castle\"\n",
        "print(content) ### the double quotes have been used to enclose the string aw well as the single quote is used to \n",
        "              ###  wrap the name and put a quotation symbol. Python looks for double quotes to enclose the string if it was\n",
        "              ###  started by dobule quotes and in between single quotes is untroubled by Python. \n",
        "\n"
      ],
      "metadata": {
        "id": "xlxc-hQJozCB",
        "colab": {
          "base_uri": "https://localhost:8080/"
        },
        "outputId": "5cee3fa5-523f-4dfc-8c51-dbc2eed20db2"
      },
      "execution_count": null,
      "outputs": [
        {
          "output_type": "stream",
          "name": "stdout",
          "text": [
            "Howl's moving castle\n"
          ]
        }
      ]
    },
    {
      "cell_type": "code",
      "source": [
        "#Answer of 5:\n",
        "text = \"I am from Bangladesh.\\n And I am proud of Bangladeshi\"\n",
        "print(text, end=\"\")\n",
        "\n",
        "\n",
        "### Let me know the answer!!!!!"
      ],
      "metadata": {
        "id": "3kUkJ9I5ozdy",
        "colab": {
          "base_uri": "https://localhost:8080/"
        },
        "outputId": "5566b469-dbca-4677-db6d-9dc3e83e1708"
      },
      "execution_count": 60,
      "outputs": [
        {
          "output_type": "stream",
          "name": "stdout",
          "text": [
            "I am from Bangladesh.\n",
            " And I am proud of Bangladeshi"
          ]
        }
      ]
    },
    {
      "cell_type": "code",
      "source": [
        "#Answer of 6:\n",
        "\n",
        "'Hello, World!'[1]"
      ],
      "metadata": {
        "id": "eI7hQLIvozsq",
        "colab": {
          "base_uri": "https://localhost:8080/",
          "height": 35
        },
        "outputId": "c062ef63-74e5-4702-f127-d4c8dc503395"
      },
      "execution_count": null,
      "outputs": [
        {
          "output_type": "execute_result",
          "data": {
            "text/plain": [
              "'e'"
            ],
            "application/vnd.google.colaboratory.intrinsic+json": {
              "type": "string"
            }
          },
          "metadata": {},
          "execution_count": 37
        }
      ]
    },
    {
      "cell_type": "code",
      "source": [
        "'Hello, World!'[0:5]"
      ],
      "metadata": {
        "colab": {
          "base_uri": "https://localhost:8080/",
          "height": 35
        },
        "id": "CAyVlFWZuDFb",
        "outputId": "f777774c-60a5-4d62-9a76-288d044ce065"
      },
      "execution_count": null,
      "outputs": [
        {
          "output_type": "execute_result",
          "data": {
            "text/plain": [
              "'Hello'"
            ],
            "application/vnd.google.colaboratory.intrinsic+json": {
              "type": "string"
            }
          },
          "metadata": {},
          "execution_count": 38
        }
      ]
    },
    {
      "cell_type": "code",
      "source": [
        "'Hello, World!'[:5]"
      ],
      "metadata": {
        "colab": {
          "base_uri": "https://localhost:8080/",
          "height": 35
        },
        "id": "7ahkasFTuDDH",
        "outputId": "b6c675ec-a419-44f1-8f52-5421194280d7"
      },
      "execution_count": null,
      "outputs": [
        {
          "output_type": "execute_result",
          "data": {
            "text/plain": [
              "'Hello'"
            ],
            "application/vnd.google.colaboratory.intrinsic+json": {
              "type": "string"
            }
          },
          "metadata": {},
          "execution_count": 39
        }
      ]
    },
    {
      "cell_type": "code",
      "source": [
        "'Hello, World!'[3:]"
      ],
      "metadata": {
        "colab": {
          "base_uri": "https://localhost:8080/",
          "height": 35
        },
        "id": "23fzLc0TuDAg",
        "outputId": "2f36a90d-8ae0-4fb6-d32c-28ef373c6629"
      },
      "execution_count": null,
      "outputs": [
        {
          "output_type": "execute_result",
          "data": {
            "text/plain": [
              "'lo, World!'"
            ],
            "application/vnd.google.colaboratory.intrinsic+json": {
              "type": "string"
            }
          },
          "metadata": {},
          "execution_count": 40
        }
      ]
    },
    {
      "cell_type": "code",
      "source": [
        "#Answer of 7:\n",
        "'Hello'.upper()"
      ],
      "metadata": {
        "id": "hNQy4y6Coz3h",
        "colab": {
          "base_uri": "https://localhost:8080/",
          "height": 35
        },
        "outputId": "48e3a59d-361f-4a84-8156-547527efab04"
      },
      "execution_count": null,
      "outputs": [
        {
          "output_type": "execute_result",
          "data": {
            "text/plain": [
              "'HELLO'"
            ],
            "application/vnd.google.colaboratory.intrinsic+json": {
              "type": "string"
            }
          },
          "metadata": {},
          "execution_count": 41
        }
      ]
    },
    {
      "cell_type": "code",
      "source": [
        "'Hello'.upper().isupper()"
      ],
      "metadata": {
        "id": "tKWQfECeo0Ap",
        "colab": {
          "base_uri": "https://localhost:8080/"
        },
        "outputId": "a106336a-5332-429f-e4dc-01b18ffe7948"
      },
      "execution_count": null,
      "outputs": [
        {
          "output_type": "execute_result",
          "data": {
            "text/plain": [
              "True"
            ]
          },
          "metadata": {},
          "execution_count": 42
        }
      ]
    },
    {
      "cell_type": "code",
      "source": [
        "'Hello'.upper().lower()"
      ],
      "metadata": {
        "colab": {
          "base_uri": "https://localhost:8080/",
          "height": 35
        },
        "id": "AXqm6ZRNufOR",
        "outputId": "b8cdac19-a17d-4799-f2dd-3ba8af93971f"
      },
      "execution_count": null,
      "outputs": [
        {
          "output_type": "execute_result",
          "data": {
            "text/plain": [
              "'hello'"
            ],
            "application/vnd.google.colaboratory.intrinsic+json": {
              "type": "string"
            }
          },
          "metadata": {},
          "execution_count": 43
        }
      ]
    },
    {
      "cell_type": "code",
      "source": [
        "#Answer of 8:\n",
        "'Remember,remember,the fifth of July.'.split()"
      ],
      "metadata": {
        "colab": {
          "base_uri": "https://localhost:8080/"
        },
        "id": "O5mrikU5ufLJ",
        "outputId": "789b60e4-39f9-4309-e315-f5ba3c770d72"
      },
      "execution_count": null,
      "outputs": [
        {
          "output_type": "execute_result",
          "data": {
            "text/plain": [
              "['Remember,remember,the', 'fifth', 'of', 'July.']"
            ]
          },
          "metadata": {},
          "execution_count": 44
        }
      ]
    },
    {
      "cell_type": "code",
      "source": [
        "'-'.join('There can only one').split()"
      ],
      "metadata": {
        "colab": {
          "base_uri": "https://localhost:8080/"
        },
        "id": "5Fiu9ooKufIR",
        "outputId": "fb22ebef-53f8-4aba-8848-09616df2c221"
      },
      "execution_count": null,
      "outputs": [
        {
          "output_type": "execute_result",
          "data": {
            "text/plain": [
              "['T-h-e-r-e-', '-c-a-n-', '-o-n-l-y-', '-o-n-e']"
            ]
          },
          "metadata": {},
          "execution_count": 52
        }
      ]
    },
    {
      "cell_type": "code",
      "source": [
        "#Answer of 9:\n",
        "\n",
        "text = \" I am from Bangladesh.And I am proud of Bangladeshi \"\n",
        "\n",
        "text.strip()"
      ],
      "metadata": {
        "id": "0dETaUNmo0KZ",
        "colab": {
          "base_uri": "https://localhost:8080/",
          "height": 35
        },
        "outputId": "3924f64b-a9c1-4e6d-b004-aba158a5bed2"
      },
      "execution_count": null,
      "outputs": [
        {
          "output_type": "execute_result",
          "data": {
            "text/plain": [
              "'I am from Bangladesh.And I am proud of Bangladeshi'"
            ],
            "application/vnd.google.colaboratory.intrinsic+json": {
              "type": "string"
            }
          },
          "metadata": {},
          "execution_count": 53
        }
      ]
    },
    {
      "cell_type": "code",
      "source": [
        ""
      ],
      "metadata": {
        "id": "s05uJrd-veiH"
      },
      "execution_count": null,
      "outputs": []
    }
  ]
}